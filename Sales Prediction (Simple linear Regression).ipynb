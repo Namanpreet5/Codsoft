{
 "cells": [
  {
   "cell_type": "markdown",
   "id": "70a5343b",
   "metadata": {},
   "source": [
    "Sales Prediction Using Python\n",
    "\n",
    "Task 4 : Problem Statement\n",
    "\n",
    "1) Sales prediction involves forcasting the amount of a product that customers will purchase, taking into account vairous factors such as advertising platform selection.\n",
    "\n",
    "2) In bussiness that offer production or services, they utilize machine learning techniques in python to analyze and interpret data, allowing them to make informed decisions regarding advertising coasts. By leveraging these predictions, businesses can optimize their advertising strategies and maximize sales potential. Build a model according to requirements."
   ]
  },
  {
   "cell_type": "markdown",
   "id": "f2f5fa23",
   "metadata": {},
   "source": [
    "Importing important libraries :"
   ]
  },
  {
   "cell_type": "code",
   "execution_count": 64,
   "id": "a3cce9ac",
   "metadata": {},
   "outputs": [],
   "source": [
    "import pandas as pd\n",
    "import numpy as np\n",
    "import matplotlib.pyplot as plt\n",
    "import seaborn as sns\n",
    "from sklearn.model_selection import train_test_split\n",
    "from sklearn.linear_model import LinearRegression\n",
    "import warnings\n",
    "warnings.filterwarnings('ignore')"
   ]
  },
  {
   "cell_type": "markdown",
   "id": "e150beee",
   "metadata": {},
   "source": [
    "Reading the .csv data file :"
   ]
  },
  {
   "cell_type": "code",
   "execution_count": 65,
   "id": "645b29c4",
   "metadata": {},
   "outputs": [
    {
     "data": {
      "text/html": [
       "<div>\n",
       "<style scoped>\n",
       "    .dataframe tbody tr th:only-of-type {\n",
       "        vertical-align: middle;\n",
       "    }\n",
       "\n",
       "    .dataframe tbody tr th {\n",
       "        vertical-align: top;\n",
       "    }\n",
       "\n",
       "    .dataframe thead th {\n",
       "        text-align: right;\n",
       "    }\n",
       "</style>\n",
       "<table border=\"1\" class=\"dataframe\">\n",
       "  <thead>\n",
       "    <tr style=\"text-align: right;\">\n",
       "      <th></th>\n",
       "      <th>TV</th>\n",
       "      <th>Radio</th>\n",
       "      <th>Newspaper</th>\n",
       "      <th>Sales</th>\n",
       "    </tr>\n",
       "  </thead>\n",
       "  <tbody>\n",
       "    <tr>\n",
       "      <th>0</th>\n",
       "      <td>230.1</td>\n",
       "      <td>37.8</td>\n",
       "      <td>69.2</td>\n",
       "      <td>22.1</td>\n",
       "    </tr>\n",
       "    <tr>\n",
       "      <th>1</th>\n",
       "      <td>44.5</td>\n",
       "      <td>39.3</td>\n",
       "      <td>45.1</td>\n",
       "      <td>10.4</td>\n",
       "    </tr>\n",
       "    <tr>\n",
       "      <th>2</th>\n",
       "      <td>17.2</td>\n",
       "      <td>45.9</td>\n",
       "      <td>69.3</td>\n",
       "      <td>12.0</td>\n",
       "    </tr>\n",
       "    <tr>\n",
       "      <th>3</th>\n",
       "      <td>151.5</td>\n",
       "      <td>41.3</td>\n",
       "      <td>58.5</td>\n",
       "      <td>16.5</td>\n",
       "    </tr>\n",
       "    <tr>\n",
       "      <th>4</th>\n",
       "      <td>180.8</td>\n",
       "      <td>10.8</td>\n",
       "      <td>58.4</td>\n",
       "      <td>17.9</td>\n",
       "    </tr>\n",
       "    <tr>\n",
       "      <th>...</th>\n",
       "      <td>...</td>\n",
       "      <td>...</td>\n",
       "      <td>...</td>\n",
       "      <td>...</td>\n",
       "    </tr>\n",
       "    <tr>\n",
       "      <th>195</th>\n",
       "      <td>38.2</td>\n",
       "      <td>3.7</td>\n",
       "      <td>13.8</td>\n",
       "      <td>7.6</td>\n",
       "    </tr>\n",
       "    <tr>\n",
       "      <th>196</th>\n",
       "      <td>94.2</td>\n",
       "      <td>4.9</td>\n",
       "      <td>8.1</td>\n",
       "      <td>14.0</td>\n",
       "    </tr>\n",
       "    <tr>\n",
       "      <th>197</th>\n",
       "      <td>177.0</td>\n",
       "      <td>9.3</td>\n",
       "      <td>6.4</td>\n",
       "      <td>14.8</td>\n",
       "    </tr>\n",
       "    <tr>\n",
       "      <th>198</th>\n",
       "      <td>283.6</td>\n",
       "      <td>42.0</td>\n",
       "      <td>66.2</td>\n",
       "      <td>25.5</td>\n",
       "    </tr>\n",
       "    <tr>\n",
       "      <th>199</th>\n",
       "      <td>232.1</td>\n",
       "      <td>8.6</td>\n",
       "      <td>8.7</td>\n",
       "      <td>18.4</td>\n",
       "    </tr>\n",
       "  </tbody>\n",
       "</table>\n",
       "<p>200 rows × 4 columns</p>\n",
       "</div>"
      ],
      "text/plain": [
       "        TV  Radio  Newspaper  Sales\n",
       "0    230.1   37.8       69.2   22.1\n",
       "1     44.5   39.3       45.1   10.4\n",
       "2     17.2   45.9       69.3   12.0\n",
       "3    151.5   41.3       58.5   16.5\n",
       "4    180.8   10.8       58.4   17.9\n",
       "..     ...    ...        ...    ...\n",
       "195   38.2    3.7       13.8    7.6\n",
       "196   94.2    4.9        8.1   14.0\n",
       "197  177.0    9.3        6.4   14.8\n",
       "198  283.6   42.0       66.2   25.5\n",
       "199  232.1    8.6        8.7   18.4\n",
       "\n",
       "[200 rows x 4 columns]"
      ]
     },
     "execution_count": 65,
     "metadata": {},
     "output_type": "execute_result"
    }
   ],
   "source": [
    "Sp = pd.read_csv(\"Data/advertising.csv\")\n",
    "Sp"
   ]
  },
  {
   "cell_type": "markdown",
   "id": "ab01898c",
   "metadata": {},
   "source": [
    "Exploring data :"
   ]
  },
  {
   "cell_type": "code",
   "execution_count": 66,
   "id": "cf2a806f",
   "metadata": {},
   "outputs": [
    {
     "name": "stdout",
     "output_type": "stream",
     "text": [
      "<class 'pandas.core.frame.DataFrame'>\n",
      "RangeIndex: 200 entries, 0 to 199\n",
      "Data columns (total 4 columns):\n",
      " #   Column     Non-Null Count  Dtype  \n",
      "---  ------     --------------  -----  \n",
      " 0   TV         200 non-null    float64\n",
      " 1   Radio      200 non-null    float64\n",
      " 2   Newspaper  200 non-null    float64\n",
      " 3   Sales      200 non-null    float64\n",
      "dtypes: float64(4)\n",
      "memory usage: 6.4 KB\n"
     ]
    },
    {
     "data": {
      "text/html": [
       "<div>\n",
       "<style scoped>\n",
       "    .dataframe tbody tr th:only-of-type {\n",
       "        vertical-align: middle;\n",
       "    }\n",
       "\n",
       "    .dataframe tbody tr th {\n",
       "        vertical-align: top;\n",
       "    }\n",
       "\n",
       "    .dataframe thead th {\n",
       "        text-align: right;\n",
       "    }\n",
       "</style>\n",
       "<table border=\"1\" class=\"dataframe\">\n",
       "  <thead>\n",
       "    <tr style=\"text-align: right;\">\n",
       "      <th></th>\n",
       "      <th>TV</th>\n",
       "      <th>Radio</th>\n",
       "      <th>Newspaper</th>\n",
       "      <th>Sales</th>\n",
       "    </tr>\n",
       "  </thead>\n",
       "  <tbody>\n",
       "    <tr>\n",
       "      <th>count</th>\n",
       "      <td>200.000000</td>\n",
       "      <td>200.000000</td>\n",
       "      <td>200.000000</td>\n",
       "      <td>200.000000</td>\n",
       "    </tr>\n",
       "    <tr>\n",
       "      <th>mean</th>\n",
       "      <td>147.042500</td>\n",
       "      <td>23.264000</td>\n",
       "      <td>30.554000</td>\n",
       "      <td>15.130500</td>\n",
       "    </tr>\n",
       "    <tr>\n",
       "      <th>std</th>\n",
       "      <td>85.854236</td>\n",
       "      <td>14.846809</td>\n",
       "      <td>21.778621</td>\n",
       "      <td>5.283892</td>\n",
       "    </tr>\n",
       "    <tr>\n",
       "      <th>min</th>\n",
       "      <td>0.700000</td>\n",
       "      <td>0.000000</td>\n",
       "      <td>0.300000</td>\n",
       "      <td>1.600000</td>\n",
       "    </tr>\n",
       "    <tr>\n",
       "      <th>25%</th>\n",
       "      <td>74.375000</td>\n",
       "      <td>9.975000</td>\n",
       "      <td>12.750000</td>\n",
       "      <td>11.000000</td>\n",
       "    </tr>\n",
       "    <tr>\n",
       "      <th>50%</th>\n",
       "      <td>149.750000</td>\n",
       "      <td>22.900000</td>\n",
       "      <td>25.750000</td>\n",
       "      <td>16.000000</td>\n",
       "    </tr>\n",
       "    <tr>\n",
       "      <th>75%</th>\n",
       "      <td>218.825000</td>\n",
       "      <td>36.525000</td>\n",
       "      <td>45.100000</td>\n",
       "      <td>19.050000</td>\n",
       "    </tr>\n",
       "    <tr>\n",
       "      <th>max</th>\n",
       "      <td>296.400000</td>\n",
       "      <td>49.600000</td>\n",
       "      <td>114.000000</td>\n",
       "      <td>27.000000</td>\n",
       "    </tr>\n",
       "  </tbody>\n",
       "</table>\n",
       "</div>"
      ],
      "text/plain": [
       "               TV       Radio   Newspaper       Sales\n",
       "count  200.000000  200.000000  200.000000  200.000000\n",
       "mean   147.042500   23.264000   30.554000   15.130500\n",
       "std     85.854236   14.846809   21.778621    5.283892\n",
       "min      0.700000    0.000000    0.300000    1.600000\n",
       "25%     74.375000    9.975000   12.750000   11.000000\n",
       "50%    149.750000   22.900000   25.750000   16.000000\n",
       "75%    218.825000   36.525000   45.100000   19.050000\n",
       "max    296.400000   49.600000  114.000000   27.000000"
      ]
     },
     "execution_count": 66,
     "metadata": {},
     "output_type": "execute_result"
    }
   ],
   "source": [
    "Sp.info()\n",
    "Sp.describe() "
   ]
  },
  {
   "cell_type": "code",
   "execution_count": 67,
   "id": "02d0c506",
   "metadata": {},
   "outputs": [
    {
     "data": {
      "text/html": [
       "<div>\n",
       "<style scoped>\n",
       "    .dataframe tbody tr th:only-of-type {\n",
       "        vertical-align: middle;\n",
       "    }\n",
       "\n",
       "    .dataframe tbody tr th {\n",
       "        vertical-align: top;\n",
       "    }\n",
       "\n",
       "    .dataframe thead th {\n",
       "        text-align: right;\n",
       "    }\n",
       "</style>\n",
       "<table border=\"1\" class=\"dataframe\">\n",
       "  <thead>\n",
       "    <tr style=\"text-align: right;\">\n",
       "      <th></th>\n",
       "      <th>TV</th>\n",
       "      <th>Radio</th>\n",
       "      <th>Newspaper</th>\n",
       "      <th>Sales</th>\n",
       "    </tr>\n",
       "  </thead>\n",
       "  <tbody>\n",
       "    <tr>\n",
       "      <th>0</th>\n",
       "      <td>230.1</td>\n",
       "      <td>37.8</td>\n",
       "      <td>69.2</td>\n",
       "      <td>22.1</td>\n",
       "    </tr>\n",
       "    <tr>\n",
       "      <th>1</th>\n",
       "      <td>44.5</td>\n",
       "      <td>39.3</td>\n",
       "      <td>45.1</td>\n",
       "      <td>10.4</td>\n",
       "    </tr>\n",
       "    <tr>\n",
       "      <th>2</th>\n",
       "      <td>17.2</td>\n",
       "      <td>45.9</td>\n",
       "      <td>69.3</td>\n",
       "      <td>12.0</td>\n",
       "    </tr>\n",
       "    <tr>\n",
       "      <th>3</th>\n",
       "      <td>151.5</td>\n",
       "      <td>41.3</td>\n",
       "      <td>58.5</td>\n",
       "      <td>16.5</td>\n",
       "    </tr>\n",
       "    <tr>\n",
       "      <th>4</th>\n",
       "      <td>180.8</td>\n",
       "      <td>10.8</td>\n",
       "      <td>58.4</td>\n",
       "      <td>17.9</td>\n",
       "    </tr>\n",
       "  </tbody>\n",
       "</table>\n",
       "</div>"
      ],
      "text/plain": [
       "      TV  Radio  Newspaper  Sales\n",
       "0  230.1   37.8       69.2   22.1\n",
       "1   44.5   39.3       45.1   10.4\n",
       "2   17.2   45.9       69.3   12.0\n",
       "3  151.5   41.3       58.5   16.5\n",
       "4  180.8   10.8       58.4   17.9"
      ]
     },
     "execution_count": 67,
     "metadata": {},
     "output_type": "execute_result"
    }
   ],
   "source": [
    "Sp.head()"
   ]
  },
  {
   "cell_type": "code",
   "execution_count": 68,
   "id": "9369be32",
   "metadata": {},
   "outputs": [
    {
     "data": {
      "text/plain": [
       "TV           0\n",
       "Radio        0\n",
       "Newspaper    0\n",
       "Sales        0\n",
       "dtype: int64"
      ]
     },
     "execution_count": 68,
     "metadata": {},
     "output_type": "execute_result"
    }
   ],
   "source": [
    "Sp.isnull().sum()"
   ]
  },
  {
   "cell_type": "markdown",
   "id": "9a3a577a",
   "metadata": {
    "scrolled": true
   },
   "source": [
    "Plotting the relationship between the features and the target variable"
   ]
  },
  {
   "cell_type": "code",
   "execution_count": 87,
   "id": "9ab562b6",
   "metadata": {},
   "outputs": [
    {
     "data": {
      "image/png": "[encoded data removed]",
      "text/plain": [
       "<Figure size 960x400 with 3 Axes>"
      ]
     },
     "metadata": {},
     "output_type": "display_data"
    }
   ],
   "source": [
    "sns.pairplot(Sp, x_vars=['TV', 'Radio', 'Newspaper'], y_vars='Sales', height=4, aspect=0.8)\n",
    "plt.show()"
   ]
  },
  {
   "cell_type": "markdown",
   "id": "bc1e4b33",
   "metadata": {},
   "source": [
    "Separating our features and target columns for machine learning prediction :"
   ]
  },
  {
   "cell_type": "code",
   "execution_count": 70,
   "id": "033a1eaa",
   "metadata": {},
   "outputs": [],
   "source": [
    "X = Ir.drop(columns=['Sales'],axis=1)\n",
    "Y = Ir['Sales']"
   ]
  },
  {
   "cell_type": "code",
   "execution_count": 71,
   "id": "15e70e5c",
   "metadata": {},
   "outputs": [
    {
     "name": "stdout",
     "output_type": "stream",
     "text": [
      "     Unnamed: 0     TV  Radio  Newspaper\n",
      "0             1  230.1   37.8       69.2\n",
      "1             2   44.5   39.3       45.1\n",
      "2             3   17.2   45.9       69.3\n",
      "3             4  151.5   41.3       58.5\n",
      "4             5  180.8   10.8       58.4\n",
      "..          ...    ...    ...        ...\n",
      "195         196   38.2    3.7       13.8\n",
      "196         197   94.2    4.9        8.1\n",
      "197         198  177.0    9.3        6.4\n",
      "198         199  283.6   42.0       66.2\n",
      "199         200  232.1    8.6        8.7\n",
      "\n",
      "[200 rows x 4 columns]\n"
     ]
    }
   ],
   "source": [
    "print(X)"
   ]
  },
  {
   "cell_type": "code",
   "execution_count": 72,
   "id": "2d66e850",
   "metadata": {},
   "outputs": [
    {
     "name": "stdout",
     "output_type": "stream",
     "text": [
      "0      22.1\n",
      "1      10.4\n",
      "2       9.3\n",
      "3      18.5\n",
      "4      12.9\n",
      "       ... \n",
      "195     7.6\n",
      "196     9.7\n",
      "197    12.8\n",
      "198    25.5\n",
      "199    13.4\n",
      "Name: Sales, Length: 200, dtype: float64\n"
     ]
    }
   ],
   "source": [
    "print(Y)"
   ]
  },
  {
   "cell_type": "markdown",
   "id": "c3acd291",
   "metadata": {},
   "source": [
    "Splitting the data into training data and test data :"
   ]
  },
  {
   "cell_type": "code",
   "execution_count": 73,
   "id": "69cf9719",
   "metadata": {},
   "outputs": [],
   "source": [
    "X_train, X_test, Y_train, Y_test=train_test_split(X,Y,test_size=0.2,random_state=2)"
   ]
  },
  {
   "cell_type": "code",
   "execution_count": 74,
   "id": "371e450e",
   "metadata": {},
   "outputs": [
    {
     "name": "stdout",
     "output_type": "stream",
     "text": [
      "(200, 4) (160, 4) (40, 4)\n"
     ]
    }
   ],
   "source": [
    "print(X.shape,X_train.shape,X_test.shape)"
   ]
  },
  {
   "cell_type": "markdown",
   "id": "5e544fc8",
   "metadata": {},
   "source": [
    "Model training :"
   ]
  },
  {
   "cell_type": "code",
   "execution_count": 75,
   "id": "f0638882",
   "metadata": {},
   "outputs": [],
   "source": [
    "model=LinearRegression()"
   ]
  },
  {
   "cell_type": "code",
   "execution_count": 76,
   "id": "9c8d3ac4",
   "metadata": {},
   "outputs": [
    {
     "data": {
      "text/plain": [
       "LinearRegression()"
      ]
     },
     "execution_count": 76,
     "metadata": {},
     "output_type": "execute_result"
    }
   ],
   "source": [
    "model.fit(X_train, Y_train)"
   ]
  },
  {
   "cell_type": "markdown",
   "id": "4397cef7",
   "metadata": {},
   "source": [
    "In a Jupyter environment, please rerun this cell to show the HTML representation or trust the notebook.please try loading this page with nbviewer.org."
   ]
  },
  {
   "cell_type": "code",
   "execution_count": 77,
   "id": "c548a20e",
   "metadata": {},
   "outputs": [
    {
     "name": "stdout",
     "output_type": "stream",
     "text": [
      "intercept:=b0 3.166852762348922\n",
      "slope:=b1 & b2 [-0.00092985  0.04734431  0.17301764  0.00437138]\n"
     ]
    }
   ],
   "source": [
    "print('intercept:=b0', model.intercept_)\n",
    "print('slope:=b1 & b2', model.coef_)"
   ]
  },
  {
   "cell_type": "code",
   "execution_count": 78,
   "id": "8bd0a446",
   "metadata": {},
   "outputs": [],
   "source": [
    "X_train_prediction= model.predict(X_train)"
   ]
  },
  {
   "cell_type": "code",
   "execution_count": 79,
   "id": "f6f0d26f",
   "metadata": {},
   "outputs": [
    {
     "name": "stdout",
     "output_type": "stream",
     "text": [
      "[21.25785177 17.15454902 21.18191516 14.92025109 19.83452263 18.66070732\n",
      " 17.45570323  9.96771289  9.50850672 12.36158532 12.58809639 14.56398261\n",
      " 17.49042644 17.08470353  8.35317544 16.77650343  8.86174946  3.93335358\n",
      "  7.48590505 24.75612432 19.70803368 19.44177194 10.63319066 21.82761523\n",
      " 18.33072879 10.30902953 18.82723297  6.28399048  3.86682386  9.12174493\n",
      " 10.89879676 10.45891589 15.6985929  10.01761918 12.26855733  6.83951428\n",
      "  4.6492216   9.69757128 14.44986064 18.95270244 23.21488717 23.36867373\n",
      " 14.61832926 12.64680977 17.23887726 20.90241462 17.49768458 10.44326119\n",
      " 24.33290454 15.73794436 18.51334321 10.15487222 15.21351882 19.38316507\n",
      " 13.79238991 22.09041817 15.60618731 23.56822542 18.23118171 14.39642236\n",
      " 15.01028303  6.88506208 19.39354201  8.45763547 21.58932845 10.42041116\n",
      " 15.37105225 21.34091833 13.19177245 16.47320553  4.83913572 16.89030015\n",
      " 14.58292213 12.99972575 17.51388839 11.99573046 13.48316474 10.31725464\n",
      "  8.3267006  15.62682829 10.32901722 20.78333648 10.05226963 15.55923081\n",
      " 23.82647363  9.33294216 11.12914507 13.49610898 23.10723755 15.3144464\n",
      " 19.14830215  8.13231112  8.50223558 14.34068734 11.52625367 17.99059737\n",
      "  6.08263518  7.9397312  16.71238033  9.64417894  4.76453853 18.16733713\n",
      " 15.03174471  8.12870234  5.49364489 13.06324544 14.18200214 15.4197118\n",
      " 17.88299867 10.34742206  6.87734606 18.88267891 10.04157693  5.24782919\n",
      " 23.96478458 11.03981931 20.58681026  8.47286765 10.07711743  8.15613451\n",
      " 13.26642763 20.75082128 11.42569279 20.58825835  7.91828434  6.07132342\n",
      "  9.23886716 11.99740764 21.08038522 12.25202892 24.36560695 21.83864778\n",
      " 19.17155035  9.94413473 15.02029494  9.54857539  7.49967566  7.46250171\n",
      " 13.84593361 18.17797903 13.78593729 15.4149818  12.23444753 19.8289664\n",
      " 11.85201904 11.66151219 13.12764453 21.74122211 16.25863108 16.50751611\n",
      " 12.56275078 15.1784814  12.29205359 20.30430605 11.84797524 14.49022935\n",
      "  6.73821203 10.1617509  20.88724049 17.54267982]\n"
     ]
    }
   ],
   "source": [
    "print(X_train_prediction)"
   ]
  },
  {
   "cell_type": "code",
   "execution_count": 80,
   "id": "d761ba04",
   "metadata": {},
   "outputs": [],
   "source": [
    "r2=model.score(X_train, Y_train)"
   ]
  },
  {
   "cell_type": "code",
   "execution_count": 81,
   "id": "cb817dae",
   "metadata": {},
   "outputs": [
    {
     "name": "stdout",
     "output_type": "stream",
     "text": [
      "91.52614531156523\n"
     ]
    }
   ],
   "source": [
    "print(r2*100)"
   ]
  },
  {
   "cell_type": "code",
   "execution_count": 82,
   "id": "928bf5a2",
   "metadata": {},
   "outputs": [],
   "source": [
    "Prediction_model=[[100,100,100,0]]"
   ]
  },
  {
   "cell_type": "code",
   "execution_count": 83,
   "id": "0c8d5f7c",
   "metadata": {},
   "outputs": [
    {
     "name": "stdout",
     "output_type": "stream",
     "text": [
      "Sales of TV, Radio and Newspaper is: [25.11006256]\n"
     ]
    }
   ],
   "source": [
    "print('Sales of TV, Radio and Newspaper is:', model.predict(Prediction_model))"
   ]
  }
 ],
 "metadata": {
  "kernelspec": {
   "display_name": "Python 3 (ipykernel)",
   "language": "python",
   "name": "python3"
  },
  "language_info": {
   "codemirror_mode": {
    "name": "ipython",
    "version": 3
   },
   "file_extension": ".py",
   "mimetype": "text/x-python",
   "name": "python",
   "nbconvert_exporter": "python",
   "pygments_lexer": "ipython3",
   "version": "3.9.13"
  }
 },
 "nbformat": 4,
 "nbformat_minor": 5
}
