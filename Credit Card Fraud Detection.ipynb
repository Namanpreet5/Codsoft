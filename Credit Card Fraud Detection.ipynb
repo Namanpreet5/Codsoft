{
 "cells": [
  {
   "cell_type": "markdown",
   "id": "b3b13c64",
   "metadata": {},
   "source": [
    "Credit Card Fraud Detection\n",
    "\n",
    "Task 5 : Problem Statement :\n",
    "\n",
    "1.Build a machine learning model to identify fradulent credit card transactions.\n",
    "\n",
    "2.Preprocess and normalize the transaction data, handle class inbalance issues, and split the dataset into training and testing sets.\n",
    "\n",
    "3.Train a classification algorithm,such as logistic regression or random forests to classify transactions as fraudelent or genuine.\n",
    "\n",
    "4.Evaluate the model's performance using metrics like precision, recall, and f1-score and cosider techniques like oversampling or undersampling for improving results."
   ]
  },
  {
   "cell_type": "markdown",
   "id": "de0539c2",
   "metadata": {},
   "source": [
    "Importing important libraries"
   ]
  },
  {
   "cell_type": "code",
   "execution_count": null,
   "id": "25251e74",
   "metadata": {},
   "outputs": [],
   "source": [
    "import numpy as np\n",
    "import pandas as pd\n",
    "from sklearn.model_selection import train_test_split\n",
    "from sklearn.linear_model import LogisticRegression\n",
    "from sklearn.metrics import accuracy_score\n",
    "from sklearn.metrics import accuracy_score, f1_score, confusion_matrix, recall_score , classification_report"
   ]
  },
  {
   "cell_type": "markdown",
   "id": "38506a57",
   "metadata": {},
   "source": [
    "Reading the .csv data file :"
   ]
  },
  {
   "cell_type": "code",
   "execution_count": null,
   "id": "7e4330b9",
   "metadata": {},
   "outputs": [],
   "source": [
    "creditcard = pd.read_csv(\"Data/creditcard.csv\")"
   ]
  },
  {
   "cell_type": "code",
   "execution_count": null,
   "id": "068d04ab",
   "metadata": {},
   "outputs": [],
   "source": [
    "creditcard.head()"
   ]
  },
  {
   "cell_type": "code",
   "execution_count": null,
   "id": "53e43e29",
   "metadata": {},
   "outputs": [],
   "source": [
    "creditcard.info()"
   ]
  },
  {
   "cell_type": "markdown",
   "id": "1806bda8",
   "metadata": {},
   "source": [
    "checking the number of missing values in each column"
   ]
  },
  {
   "cell_type": "code",
   "execution_count": null,
   "id": "860e96ef",
   "metadata": {},
   "outputs": [],
   "source": [
    "creditcard.isnull().sum()"
   ]
  },
  {
   "cell_type": "markdown",
   "id": "92234a0c",
   "metadata": {},
   "source": [
    "distribution of legit transactions & fraudulent transactions"
   ]
  },
  {
   "cell_type": "code",
   "execution_count": null,
   "id": "e5736b4e",
   "metadata": {},
   "outputs": [],
   "source": [
    "creditcard['Class'].value_counts()"
   ]
  },
  {
   "cell_type": "markdown",
   "id": "ec060837",
   "metadata": {},
   "source": [
    "separating the data for analysis"
   ]
  },
  {
   "cell_type": "code",
   "execution_count": null,
   "id": "f1a9cca5",
   "metadata": {},
   "outputs": [],
   "source": [
    "legit = creditcard[creditcard.Class == 0]\n",
    "fraud = creditcard[creditcard.Class == 1]"
   ]
  },
  {
   "cell_type": "code",
   "execution_count": null,
   "id": "d2a0fccd",
   "metadata": {},
   "outputs": [],
   "source": [
    "print(legit.shape)\n",
    "print(fraud.shape)"
   ]
  },
  {
   "cell_type": "markdown",
   "id": "ccd39468",
   "metadata": {},
   "source": [
    "statistical details:"
   ]
  },
  {
   "cell_type": "code",
   "execution_count": null,
   "id": "55c32765",
   "metadata": {},
   "outputs": [],
   "source": [
    "legit.Amount.describe()"
   ]
  },
  {
   "cell_type": "code",
   "execution_count": null,
   "id": "766deaa3",
   "metadata": {},
   "outputs": [],
   "source": [
    "fraud.Amount.describe()"
   ]
  },
  {
   "cell_type": "markdown",
   "id": "f32a5266",
   "metadata": {},
   "source": [
    "compare the values for both transactions"
   ]
  },
  {
   "cell_type": "code",
   "execution_count": null,
   "id": "a0b9f409",
   "metadata": {},
   "outputs": [],
   "source": [
    "creditcard.groupby('Class').mean()"
   ]
  },
  {
   "cell_type": "markdown",
   "id": "bdaf74bf",
   "metadata": {},
   "source": [
    "Under Sampling: building a sample dataset containing similar distribution of normal transaction and fradulent transaction.\n",
    "\n",
    "number of fradulent transaction = 492"
   ]
  },
  {
   "cell_type": "code",
   "execution_count": null,
   "id": "45d81f44",
   "metadata": {},
   "outputs": [],
   "source": [
    "legit_sample=legit.sample(n=492)"
   ]
  },
  {
   "cell_type": "markdown",
   "id": "cd67006f",
   "metadata": {},
   "source": [
    "concatenating two dataframes:"
   ]
  },
  {
   "cell_type": "code",
   "execution_count": null,
   "id": "56b7891d",
   "metadata": {},
   "outputs": [],
   "source": [
    "nd=pd.concat([legit_sample, fraud],axis=0)"
   ]
  },
  {
   "cell_type": "code",
   "execution_count": null,
   "id": "c3fa837b",
   "metadata": {},
   "outputs": [],
   "source": [
    "nd.head()"
   ]
  },
  {
   "cell_type": "code",
   "execution_count": null,
   "id": "94f9670d",
   "metadata": {},
   "outputs": [],
   "source": [
    "nd['Class'].value_counts()"
   ]
  },
  {
   "cell_type": "code",
   "execution_count": null,
   "id": "f39adfa8",
   "metadata": {},
   "outputs": [],
   "source": [
    "nd.groupby('Class').mean()"
   ]
  },
  {
   "cell_type": "markdown",
   "id": "4a530eba",
   "metadata": {},
   "source": [
    "Spliting the data into Features and Targets :"
   ]
  },
  {
   "cell_type": "code",
   "execution_count": null,
   "id": "3b372dfa",
   "metadata": {},
   "outputs": [],
   "source": [
    "X=nd.drop(columns='Class', axis=1)\n",
    "Y=nd['Class']"
   ]
  },
  {
   "cell_type": "code",
   "execution_count": null,
   "id": "93195460",
   "metadata": {},
   "outputs": [],
   "source": [
    "print(X)"
   ]
  },
  {
   "cell_type": "code",
   "execution_count": null,
   "id": "61f59d5c",
   "metadata": {},
   "outputs": [],
   "source": [
    "print(Y)"
   ]
  },
  {
   "cell_type": "markdown",
   "id": "ff5facaf",
   "metadata": {},
   "source": [
    "Spliting the data into train and test"
   ]
  },
  {
   "cell_type": "code",
   "execution_count": null,
   "id": "6c6b98a8",
   "metadata": {},
   "outputs": [],
   "source": [
    "X_train,X_test,Y_train,Y_test=train_test_split (X,Y, test_size=0.2, stratify=Y,random_state=2)"
   ]
  },
  {
   "cell_type": "code",
   "execution_count": null,
   "id": "4c8b4fdf",
   "metadata": {},
   "outputs": [],
   "source": [
    "print(X.shape, X_train.shape,X_test.shape)"
   ]
  },
  {
   "cell_type": "markdown",
   "id": "05793a44",
   "metadata": {},
   "source": [
    "Model Training - Logistic Regression"
   ]
  },
  {
   "cell_type": "code",
   "execution_count": null,
   "id": "c162fbef",
   "metadata": {},
   "outputs": [],
   "source": [
    "model=LogisticRegression()"
   ]
  },
  {
   "cell_type": "code",
   "execution_count": null,
   "id": "757bc060",
   "metadata": {},
   "outputs": [],
   "source": [
    "model.fit(X_train, Y_train)"
   ]
  },
  {
   "cell_type": "markdown",
   "id": "3d5a11c1",
   "metadata": {},
   "source": [
    "In a Jupyter environment, please rerun this cell to show the HTML representation or trust the notebook.\n",
    "please try loading this page with nbviewer.org."
   ]
  },
  {
   "cell_type": "markdown",
   "id": "373ebbe1",
   "metadata": {},
   "source": [
    "Model Evaluation:"
   ]
  },
  {
   "cell_type": "code",
   "execution_count": null,
   "id": "549c2ab7",
   "metadata": {},
   "outputs": [],
   "source": [
    "X_train_prediction=model.predict(X_train)\n",
    "training_data_accuracy=accuracy_score(X_train_prediction,Y_train)"
   ]
  },
  {
   "cell_type": "code",
   "execution_count": null,
   "id": "9690af8b",
   "metadata": {},
   "outputs": [],
   "source": [
    "print('Accuracy on training data :{:.2f}%'.format(training_data_accuracy*100))"
   ]
  },
  {
   "cell_type": "code",
   "execution_count": null,
   "id": "f50f0033",
   "metadata": {},
   "outputs": [],
   "source": [
    "X_test_prediction=model.predict(X_test)\n",
    "test_data_accuracy=accuracy_score(X_test_prediction,Y_test)"
   ]
  },
  {
   "cell_type": "code",
   "execution_count": null,
   "id": "8b6f3873",
   "metadata": {},
   "outputs": [],
   "source": [
    "print('Accuracy on test data :{:.2f}%'.format(test_data_accuracy*100))"
   ]
  },
  {
   "cell_type": "code",
   "execution_count": null,
   "id": "6cc0b0e4",
   "metadata": {},
   "outputs": [],
   "source": [
    "print (classification_report(Y_test , model.predict(X_test)))"
   ]
  }
 ],
 "metadata": {
  "kernelspec": {
   "display_name": "Python 3 (ipykernel)",
   "language": "python",
   "name": "python3"
  },
  "language_info": {
   "codemirror_mode": {
    "name": "ipython",
    "version": 3
   },
   "file_extension": ".py",
   "mimetype": "text/x-python",
   "name": "python",
   "nbconvert_exporter": "python",
   "pygments_lexer": "ipython3",
   "version": "3.9.13"
  }
 },
 "nbformat": 4,
 "nbformat_minor": 5
}
